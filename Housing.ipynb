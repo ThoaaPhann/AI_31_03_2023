{
  "nbformat": 4,
  "nbformat_minor": 0,
  "metadata": {
    "colab": {
      "provenance": [],
      "authorship_tag": "ABX9TyOD92gUfpEibFi+3W5voNeO",
      "include_colab_link": true
    },
    "kernelspec": {
      "name": "python3",
      "display_name": "Python 3"
    },
    "language_info": {
      "name": "python"
    }
  },
  "cells": [
    {
      "cell_type": "markdown",
      "metadata": {
        "id": "view-in-github",
        "colab_type": "text"
      },
      "source": [
        "<a href=\"https://colab.research.google.com/github/ThoaaPhann/AI_31_03_2023/blob/main/Housing.ipynb\" target=\"_parent\"><img src=\"https://colab.research.google.com/assets/colab-badge.svg\" alt=\"Open In Colab\"/></a>"
      ]
    },
    {
      "cell_type": "code",
      "execution_count": null,
      "metadata": {
        "id": "Z3uznDiksO1R"
      },
      "outputs": [],
      "source": [
        "## ----------------- Housing -----------------"
      ]
    },
    {
      "cell_type": "code",
      "source": [
        "import pandas as pd\n",
        "import numpy as np \n",
        "from sklearn import datasets \n",
        "from sklearn.linear_model import Perceptron \n",
        "from sklearn.model_selection import train_test_split \n",
        "from sklearn.metrics import accuracy_score\n",
        "from sklearn.preprocessing import StandardScaler"
      ],
      "metadata": {
        "id": "LsrxMJ7YsbwY"
      },
      "execution_count": null,
      "outputs": []
    },
    {
      "cell_type": "code",
      "source": [
        "url = '/content/Housing.csv'\n",
        "\n",
        "Housing = pd.read_csv(url)\n",
        "print(Housing.head())"
      ],
      "metadata": {
        "colab": {
          "base_uri": "https://localhost:8080/"
        },
        "id": "xeMnaVKwtbeH",
        "outputId": "ad5f14df-f4aa-44ad-feb8-3924d1bfae45"
      },
      "execution_count": null,
      "outputs": [
        {
          "output_type": "stream",
          "name": "stdout",
          "text": [
            "      price  area  bedrooms  bathrooms  stories mainroad guestroom basement  \\\n",
            "0  13300000  7420         4          2        3      yes        no       no   \n",
            "1  12250000  8960         4          4        4      yes        no       no   \n",
            "2  12250000  9960         3          2        2      yes        no      yes   \n",
            "3  12215000  7500         4          2        2      yes        no      yes   \n",
            "4  11410000  7420         4          1        2      yes       yes      yes   \n",
            "\n",
            "  hotwaterheating airconditioning  parking prefarea furnishingstatus  \n",
            "0              no             yes        2      yes        furnished  \n",
            "1              no             yes        3       no        furnished  \n",
            "2              no              no        2      yes   semi-furnished  \n",
            "3              no             yes        3      yes        furnished  \n",
            "4              no             yes        2       no        furnished  \n"
          ]
        }
      ]
    },
    {
      "cell_type": "code",
      "source": [
        "Housing.replace({'yes': 1, 'no': 0, 'furnished': 1, 'unfurnished': 0, 'semi-furnished': 2}, inplace=True)\n",
        "X = Housing.drop('price', axis=1).values\n",
        "print(X[:15])\n",
        "\n",
        "y = Housing['price'].values\n",
        "print(y[:15])\n",
        "\n",
        "x_train, x_test, y_train, y_test = train_test_split(X, y, test_size=0.3, random_state=0)\n",
        "sc = StandardScaler()\n",
        "sc.fit(x_test)\n",
        "x_train_std = sc.transform(x_train)\n",
        "x_test_std = sc.transform(x_test)\n",
        "\n",
        "model = Perceptron(max_iter = 1000000, eta0= 0.01, random_state = 0) #so lan train, toc do hoc\n",
        "model.fit(x_train_std, y_train)\n",
        "y_pred = model.predict(x_test_std)\n",
        "\n",
        "print(y_pred[:15])\n",
        "print(y_test[:15].T)\n",
        "print(\"Do chinh xac cua mo hinh:\", accuracy_score(y_test, y_pred))"
      ],
      "metadata": {
        "colab": {
          "base_uri": "https://localhost:8080/"
        },
        "id": "oSvOSOliwZb4",
        "outputId": "99a55074-ea3a-45f9-c4e9-836579fdea16"
      },
      "execution_count": null,
      "outputs": [
        {
          "output_type": "stream",
          "name": "stdout",
          "text": [
            "[[ 7420     4     2     3     1     0     0     0     1     2     1     1]\n",
            " [ 8960     4     4     4     1     0     0     0     1     3     0     1]\n",
            " [ 9960     3     2     2     1     0     1     0     0     2     1     2]\n",
            " [ 7500     4     2     2     1     0     1     0     1     3     1     1]\n",
            " [ 7420     4     1     2     1     1     1     0     1     2     0     1]\n",
            " [ 7500     3     3     1     1     0     1     0     1     2     1     2]\n",
            " [ 8580     4     3     4     1     0     0     0     1     2     1     2]\n",
            " [16200     5     3     2     1     0     0     0     0     0     0     0]\n",
            " [ 8100     4     1     2     1     1     1     0     1     2     1     1]\n",
            " [ 5750     3     2     4     1     1     0     0     1     1     1     0]\n",
            " [13200     3     1     2     1     0     1     0     1     2     1     1]\n",
            " [ 6000     4     3     2     1     1     1     1     0     2     0     2]\n",
            " [ 6550     4     2     2     1     0     0     0     1     1     1     2]\n",
            " [ 3500     4     2     2     1     0     0     1     0     2     0     1]\n",
            " [ 7800     3     2     2     1     0     0     0     0     0     1     2]]\n",
            "[13300000 12250000 12250000 12215000 11410000 10850000 10150000 10150000\n",
            "  9870000  9800000  9800000  9681000  9310000  9240000  9240000]\n",
            "[4270000 7000000 4382000 8750000 3493000 6405000 3395000 2835000 3430000\n",
            " 6300000 6405000 4270000 4900000 8645000 4620000]\n",
            "[4585000 6083000 4007500 6930000 2940000 6195000 3535000 2940000 3500000\n",
            " 7980000 6755000 3990000 3150000 3290000 4130000]\n",
            "Do chinh xac cua mo hinh: 0.018292682926829267\n"
          ]
        }
      ]
    },
    {
      "cell_type": "code",
      "source": [
        "Housing.replace({'yes': 1, 'no': 0, 'furnished': 1, 'unfurnished': 0, 'semi-furnished': 2}, inplace=True)\n",
        "X = Housing.drop('price', axis=1).values\n",
        "print(X[:20])\n",
        "\n",
        "y = Housing['price'].values\n",
        "print(y[:20])\n",
        "\n",
        "x_train, x_test, y_train, y_test = train_test_split(X, y, test_size=0.3, random_state=0)\n",
        "sc = StandardScaler()\n",
        "sc.fit(x_test)\n",
        "x_train_std = sc.transform(x_train)\n",
        "x_test_std = sc.transform(x_test)\n",
        "\n",
        "model = Perceptron(max_iter = 1000000000, eta0= 0.2, random_state = 0) #so lan train, toc do hoc\n",
        "model.fit(x_train_std, y_train)\n",
        "y_pred = model.predict(x_test_std)\n",
        "\n",
        "print(y_pred[:20])\n",
        "print(y_test[:20].T)\n",
        "print(\"Do chinh xac cua mo hinh:\", accuracy_score(y_test, y_pred))"
      ],
      "metadata": {
        "colab": {
          "base_uri": "https://localhost:8080/"
        },
        "id": "IujBNJkv93vb",
        "outputId": "ee48a046-90a3-4c41-d15e-b56bf66eaa57"
      },
      "execution_count": null,
      "outputs": [
        {
          "output_type": "stream",
          "name": "stdout",
          "text": [
            "[[ 7420     4     2     3     1     0     0     0     1     2     1     1]\n",
            " [ 8960     4     4     4     1     0     0     0     1     3     0     1]\n",
            " [ 9960     3     2     2     1     0     1     0     0     2     1     2]\n",
            " [ 7500     4     2     2     1     0     1     0     1     3     1     1]\n",
            " [ 7420     4     1     2     1     1     1     0     1     2     0     1]\n",
            " [ 7500     3     3     1     1     0     1     0     1     2     1     2]\n",
            " [ 8580     4     3     4     1     0     0     0     1     2     1     2]\n",
            " [16200     5     3     2     1     0     0     0     0     0     0     0]\n",
            " [ 8100     4     1     2     1     1     1     0     1     2     1     1]\n",
            " [ 5750     3     2     4     1     1     0     0     1     1     1     0]\n",
            " [13200     3     1     2     1     0     1     0     1     2     1     1]\n",
            " [ 6000     4     3     2     1     1     1     1     0     2     0     2]\n",
            " [ 6550     4     2     2     1     0     0     0     1     1     1     2]\n",
            " [ 3500     4     2     2     1     0     0     1     0     2     0     1]\n",
            " [ 7800     3     2     2     1     0     0     0     0     0     1     2]\n",
            " [ 6000     4     1     2     1     0     1     0     0     2     0     2]\n",
            " [ 6600     4     2     2     1     1     1     0     1     1     1     0]\n",
            " [ 8500     3     2     4     1     0     0     0     1     2     0     1]\n",
            " [ 4600     3     2     2     1     1     0     0     1     2     0     1]\n",
            " [ 6420     3     2     2     1     0     0     0     1     1     1     2]]\n",
            "[13300000 12250000 12250000 12215000 11410000 10850000 10150000 10150000\n",
            "  9870000  9800000  9800000  9681000  9310000  9240000  9240000  9100000\n",
            "  9100000  8960000  8890000  8855000]\n",
            "[3500000 5250000 5565000 6650000 3570000 6650000 3500000 4340000 4830000\n",
            " 7700000 9100000 4270000 4550000 4550000 4550000 3570000 4620000 4270000\n",
            " 2275000 4025000]\n",
            "[4585000 6083000 4007500 6930000 2940000 6195000 3535000 2940000 3500000\n",
            " 7980000 6755000 3990000 3150000 3290000 4130000 2660000 4410000 3710000\n",
            " 3360000 4270000]\n",
            "Do chinh xac cua mo hinh: 0.006097560975609756\n"
          ]
        }
      ]
    }
  ]
}